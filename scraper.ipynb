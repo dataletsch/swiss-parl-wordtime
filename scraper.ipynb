{
 "cells": [
  {
   "cell_type": "code",
   "execution_count": 1,
   "metadata": {},
   "outputs": [
    {
     "data": {
      "text/plain": [
       "\"https://ws.parlament.ch/odata.svc/Transcript/count?\""
      ]
     },
     "execution_count": 1,
     "metadata": {},
     "output_type": "execute_result"
    }
   ],
   "source": [
    "import JSON\n",
    "import HTTP\n",
    "import HTTP.URIs: escapeuri\n",
    "\n",
    "using CSV\n",
    "using Dates\n",
    "using DelimitedFiles\n",
    "using DataFrames       # http://juliadata.github.io/DataFrames.jl/stable/index.html\n",
    "using Feather          # https://juliadata.github.io/Feather.jl/latest/index.html\n",
    "\n",
    "# Which date range are we interested in\n",
    "const FILTER_FROM = DateTime(2015,11,30)\n",
    "const FILTER_TO = DateTime(2018,12,14)\n",
    "\n",
    "# Names of cache files\n",
    "const CACHE_PARL = \"XODataExport.csv\"\n",
    "const CACHE_TRAN = \"ws-parlament-data.feather\"\n",
    "\n",
    "# Configure the transcript web service\n",
    "p_top = 1000                # How many results per page? (e.g. 1000)\n",
    "p_max = 0                  # Max number of pages? (e.g. 268)\n",
    "p_pause = 1                 # Pause between pages (e.g. 2 seconds)?\n",
    "p_lang = \"DE\"               # Language of transcripts\n",
    "p_years = range(2015, stop=2018) # Which set of years to include\n",
    "p_startfrom = nothing       # To resume download, change this identifier to the first ID\n",
    "\n",
    "# Open Data Web services of the Swiss parliament\n",
    "# See: https://www.parlament.ch/de/services/open-data-webservices\n",
    "const baseurl = \"https://ws.parlament.ch/odata.svc/Transcript?\\$format=json\"\n",
    "const counturl = \"https://ws.parlament.ch/odata.svc/Transcript/$count?\"\n",
    "\n",
    "# Result counts:\n",
    "#2015\t10684\n",
    "#2016\t10407\n",
    "#2017\t9348\n",
    "#2018\t9596\n",
    "#SUM:\t40035"
   ]
  },
  {
   "cell_type": "code",
   "execution_count": 2,
   "metadata": {},
   "outputs": [
    {
     "name": "stdout",
     "output_type": "stream",
     "text": [
      "Loading transcripts from disk ...\n",
      "Starting with year 2018\n"
     ]
    }
   ],
   "source": [
    "# Create empty input object\n",
    "df3 = nothing\n",
    "drefs = []\n",
    "\n",
    "# Set up year counters\n",
    "a_years = Array(p_years)\n",
    "p_year = pop!(a_years)\n",
    "\n",
    "# Check for previous runs\n",
    "if isfile(CACHE_TRAN)\n",
    "    println(\"Loading transcripts from disk ...\")\n",
    "    df3 = DataFrame(Feather.read(CACHE_TRAN))\n",
    "    drefs = convert(Array, df3.ID)\n",
    "end\n",
    "\n",
    "# Iterate through pages, building an array\n",
    "println(\"Starting with year $p_year\")\n",
    "pp = 0\n",
    "while (pp < p_max)\n",
    "    # Build the query URL\n",
    "    pp = pp + 1\n",
    "    pp0 = (pp - 1) * p_top\n",
    "    # Build the query\n",
    "    #https://ws.parlament.ch/odata.svc/Transcript?$top=10&$filter=startswith(MeetingDate, '2015') eq true and PersonNumber ne null and Language eq 'DE'&$orderby=ID&$select=CantonAbbreviation,CantonId,CantonName,CouncilId,CouncilName,End,Function,ID,Language,LanguageOfText,PersonNumber,SpeakerFullName,Start,Text\n",
    "    #&$orderby=ID ...  and ID ge $(p_startfrom)L\n",
    "    q_filter = escapeuri(\"startswith(MeetingDate, '$(p_year)') eq true and Language eq '$(p_lang)' and PersonNumber ne null\")\n",
    "    q_columns = escapeuri(\"CantonAbbreviation,CantonId,CantonName,CouncilId,CouncilName,End,Function,ID,IdSession,Language,PersonNumber,SpeakerFullName,Start,Text\")\n",
    "    q2 = string(\"&\\$filter=$(q_filter)&\\$top=$(p_top)&\\$skip=$(pp0)&\\$select=$(q_columns)\")\n",
    "    r2 = nothing\n",
    "    try\n",
    "        r2 = HTTP.get(\"$baseurl$q2\")\n",
    "        if r2.status != 200\n",
    "            throw(Exception(\"Not status 200\"))\n",
    "        end\n",
    "    catch e\n",
    "        println(\"$baseurl$q2\")\n",
    "        println(\"HTTP error on page $pp\")\n",
    "        println(r2.status)\n",
    "        println(r2.body)\n",
    "        sleep(p_pause)\n",
    "        break\n",
    "    end\n",
    "\n",
    "    d2_data = nothing\n",
    "    d2_size = 0\n",
    "    d2 = JSON.parse(String(r2.body))\n",
    "    d2_data = d2[\"d\"]\n",
    "    d2_size = size(d2_data, 1)\n",
    "    if d2_size == 0\n",
    "        if length(a_years) > 0\n",
    "            p_year = pop!(a_years)\n",
    "            pp = 0\n",
    "            println(\"Continuing to year $p_year\")\n",
    "            continue\n",
    "        end\n",
    "        println(\"No data received on page $pp, stopping.\")\n",
    "        break\n",
    "    end\n",
    "    println(\"Collected page $pp/$p_max ($d2_size entries)\")\n",
    "\n",
    "    # Append the dataset by index (only once per language)\n",
    "    df2set = nothing\n",
    "    for n in range(1, stop=size(d2_data, 1))\n",
    "        tid = d2_data[n][\"ID\"]\n",
    "        if tid in drefs\n",
    "            continue\n",
    "        end\n",
    "        push!(drefs, tid)\n",
    "        if d2_data[n][\"CouncilName\"] == nothing\n",
    "            d2_data[n][\"CouncilName\"] = \"?\"\n",
    "            d2_data[n][\"CouncilId\"] = 0\n",
    "        end\n",
    "        if d2_data[n][\"CantonName\"] == nothing\n",
    "            d2_data[n][\"CantonName\"] = \"?\"\n",
    "            d2_data[n][\"CantonAbbreviation\"] = \"?\"\n",
    "            d2_data[n][\"CantonId\"] = 0\n",
    "        end\n",
    "\n",
    "        # Create temporary frame\n",
    "        d2_frame = DataFrame(d2_data[n])\n",
    "\n",
    "        # Cleanup bulky or unneeded columns\n",
    "        deletecols!(d2_frame, [:__metadata])\n",
    "\n",
    "        # Append to temporary data frame\n",
    "        if df2set == nothing\n",
    "            df2set = d2_frame\n",
    "        else\n",
    "            df2set = vcat(df2set, d2_frame)\n",
    "        end\n",
    "    end\n",
    "\n",
    "    # Append to our global data frame\n",
    "    if df2set == nothing\n",
    "        continue\n",
    "    elseif df3 == nothing\n",
    "        df3 = df2set\n",
    "    else\n",
    "        df3 = vcat(df3, df2set)\n",
    "    end\n",
    "\n",
    "    dsize = size(df3, 1)\n",
    "    lastid = last(df3).ID\n",
    "    println(\"Appended to frame buffer ($dsize @ $lastid)\")\n",
    "\n",
    "    # Sit a while, and listen ...\n",
    "    sleep(p_pause)\n",
    "    \n",
    "    # Check for empty data\n",
    "    for r in names(df3)\n",
    "        if typeof(df3[r]) == Array{Union{Nothing, String}, 1} || typeof(df3[r]) == Array{Union{Nothing, Int64}, 1}\n",
    "            println(r, \" \", typeof(df3[r]))\n",
    "        end\n",
    "    end\n",
    "    \n",
    "    # Write to file\n",
    "    Feather.write(CACHE_TRAN, df3)\n",
    "    println(\"Saved to disk\")\n",
    "end"
   ]
  },
  {
   "cell_type": "code",
   "execution_count": 3,
   "metadata": {},
   "outputs": [
    {
     "name": "stdout",
     "output_type": "stream",
     "text": [
      "(40035, 14)\n"
     ]
    }
   ],
   "source": [
    "# Show the number of records saved/loaded, across how many columns\n",
    "println(size(df3))"
   ]
  },
  {
   "cell_type": "code",
   "execution_count": 4,
   "metadata": {},
   "outputs": [
    {
     "name": "stdout",
     "output_type": "stream",
     "text": [
      "3×14 DataFrame\n",
      "│ Row │ CantonAbbreviation │ CantonId │ CantonName │ CouncilId │ CouncilName │\n",
      "│     │ \u001b[90mString\u001b[39m             │ \u001b[90mInt64\u001b[39m    │ \u001b[90mString\u001b[39m     │ \u001b[90mInt64\u001b[39m     │ \u001b[90mString\u001b[39m      │\n",
      "├─────┼────────────────────┼──────────┼────────────┼───────────┼─────────────┤\n",
      "│ 1   │ VS                 │ 23       │ Wallis     │ 1         │ Nationalrat │\n",
      "│ 2   │ BE                 │ 2        │ Bern       │ 1         │ Nationalrat │\n",
      "│ 3   │ ZH                 │ 1        │ Zürich     │ 1         │ Nationalrat │\n",
      "\n",
      "│ Row │ End                   │ Function │ ID     │ IdSession │ Language │\n",
      "│     │ \u001b[90mString\u001b[39m                │ \u001b[90mString\u001b[39m   │ \u001b[90mString\u001b[39m │ \u001b[90mString\u001b[39m    │ \u001b[90mString\u001b[39m   │\n",
      "├─────┼───────────────────────┼──────────┼────────┼───────────┼──────────┤\n",
      "│ 1   │ /Date(1519034191513)/ │ Mit-F    │ 225281 │ 0012      │ DE       │\n",
      "│ 2   │ /Date(1519034198030)/ │ Mit-F    │ 225282 │ 0012      │ DE       │\n",
      "│ 3   │ /Date(1519034207597)/ │ Mit-M    │ 225283 │ 0012      │ DE       │\n",
      "\n",
      "│ Row │ PersonNumber │ SpeakerFullName         │ Start                 │\n",
      "│     │ \u001b[90mInt64\u001b[39m        │ \u001b[90mString\u001b[39m                  │ \u001b[90mString\u001b[39m                │\n",
      "├─────┼──────────────┼─────────────────────────┼───────────────────────┤\n",
      "│ 1   │ 1288         │ Amherd Viola            │ /Date(1519034167477)/ │\n",
      "│ 2   │ 4036         │ Streiff-Feller Marianne │ /Date(1519034191513)/ │\n",
      "│ 3   │ 514          │ Stahl Jürg              │ /Date(1519034198030)/ │\n",
      "\n",
      "│ Row │ Text                                                                                                                               │\n",
      "│     │ \u001b[90mString\u001b[39m                                                                                                                             │\n",
      "├─────┼────────────────────────────────────────────────────────────────────────────────────────────────────────────────────────────────────┤\n",
      "│ 1   │ <pd_text><p>Das ist ein Test für die 12. Session in der 50 Legislatur. Wir ergänzen den Text für den ersten Redner</p>\\n</pd_text> │\n",
      "│ 2   │ <pd_text><p>Das ist schon der 2. Turnus, den ich an diesem grauen Montagmorgen schreiben.</p>\\n</pd_text>                          │\n",
      "│ 3   │ <pd_text><p>ddddd</p>\\n<p>dddddd</p>\\n</pd_text>                                                                                   │"
     ]
    }
   ],
   "source": [
    "# Show an excerpt of transcript data\n",
    "show(first(df3, 3), allcols=true)"
   ]
  },
  {
   "cell_type": "code",
   "execution_count": 5,
   "metadata": {},
   "outputs": [
    {
     "data": {
      "text/plain": [
       "\"Les textes des projets de loi soumis au vote final ont été envoyés hier en fin de journée à tous les membres du conseil par courriel. La version imprimée sur papier n'est plus distribuée, conformément aux décisions des Bureaux des deux conseils de l'année dernière. Toutefois, des exemplaires sur papier sont à disposition dans la salle pour celles et ceux qui souhaitent s'en servir.La Commission de rédaction a examiné tous les textes et a certifié leur conformité dans les différentes versions linguistiques.\""
      ]
     },
     "execution_count": 5,
     "metadata": {},
     "output_type": "execute_result"
    }
   ],
   "source": [
    "# Helper function to clean the transcript buffer\n",
    "function cleantext(text)\n",
    "    text = replace(text, r\"<[^>]*>\" => \"\")\n",
    "    text = replace(text, r\"\\n\" => \"\")\n",
    "    return text\n",
    "end\n",
    "\n",
    "# Sample content\n",
    "cleantext(\"<pd_text><p>Les textes des projets de loi soumis au vote final ont été envoyés hier en fin de journée à tous les membres du conseil par courriel. La version imprimée sur papier n'est plus distribuée, conformément aux décisions des Bureaux des deux conseils de l'année dernière. Toutefois, des exemplaires sur papier sont à disposition dans la salle pour celles et ceux qui souhaitent s'en servir.</p>\\n<p>La Commission de rédaction a examiné tous les textes et a certifié leur conformité dans les différentes versions linguistiques.</p>\\n</pd_text>\")"
   ]
  },
  {
   "cell_type": "code",
   "execution_count": 6,
   "metadata": {},
   "outputs": [
    {
     "data": {
      "text/html": [
       "<table class=\"data-frame\"><thead><tr><th></th><th>GenderAsString</th><th>CouncilName</th><th>CouncilAbbreviation</th><th>ParlGroupNumber</th><th>ParlGroupName</th></tr><tr><th></th><th>String⍰</th><th>String⍰</th><th>String⍰</th><th>Int64⍰</th><th>String⍰</th></tr></thead><tbody><p>3 rows × 16 columns (omitted printing of 11 columns)</p><tr><th>1</th><td>m</td><td>Nationalrat</td><td>NR</td><td>2</td><td>Sozialdemokratische Fraktion</td></tr><tr><th>2</th><td>m</td><td>Nationalrat</td><td>NR</td><td>1</td><td>FDP-Liberale Fraktion</td></tr><tr><th>3</th><td>m</td><td>Nationalrat</td><td>NR</td><td>1</td><td>FDP-Liberale Fraktion</td></tr></tbody></table>"
      ],
      "text/latex": [
       "\\begin{tabular}{r|cccccc}\n",
       "\t& GenderAsString & CouncilName & CouncilAbbreviation & ParlGroupNumber & ParlGroupName & \\\\\n",
       "\t\\hline\n",
       "\t& String⍰ & String⍰ & String⍰ & Int64⍰ & String⍰ & \\\\\n",
       "\t\\hline\n",
       "\t1 & m & Nationalrat & NR & 2 & Sozialdemokratische Fraktion & $\\dots$ \\\\\n",
       "\t2 & m & Nationalrat & NR & 1 & FDP-Liberale Fraktion & $\\dots$ \\\\\n",
       "\t3 & m & Nationalrat & NR & 1 & FDP-Liberale Fraktion & $\\dots$ \\\\\n",
       "\\end{tabular}\n"
      ],
      "text/plain": [
       "3×16 DataFrame. Omitted printing of 12 columns\n",
       "│ Row │ GenderAsString │ CouncilName │ CouncilAbbreviation │ ParlGroupNumber │\n",
       "│     │ \u001b[90mString⍰\u001b[39m        │ \u001b[90mString⍰\u001b[39m     │ \u001b[90mString⍰\u001b[39m             │ \u001b[90mInt64⍰\u001b[39m          │\n",
       "├─────┼────────────────┼─────────────┼─────────────────────┼─────────────────┤\n",
       "│ 1   │ m              │ Nationalrat │ NR                  │ 2               │\n",
       "│ 2   │ m              │ Nationalrat │ NR                  │ 1               │\n",
       "│ 3   │ m              │ Nationalrat │ NR                  │ 1               │"
      ]
     },
     "execution_count": 6,
     "metadata": {},
     "output_type": "execute_result"
    }
   ],
   "source": [
    "# Load list of parlamentarians\n",
    "# Query: https://ws.parlament.ch/odata.svc/Person?$top=10000&$filter=Language eq 'DE'&$select=MembersCouncil/CouncilName,GenderAsString,NativeLanguage,OfficialName,PersonIdCode,ID,PlaceOfBirthCanton,MembersCouncil/CouncilAbbreviation,MembersCouncil/ParlGroupAbbreviation,MembersCouncil/ParlGroupFunction,MembersCouncil/ParlGroupNumber,MembersCouncil/ParlGroupName,MembersCouncil/PartyAbbreviation,MembersCouncil/PartyName,MembersCouncil/DateJoining,MembersCouncil/DateLeaving,MembersCouncil/GenderAsString&$expand=MembersCouncil\n",
    "parl = CSV.read(CACHE_PARL)\n",
    "first(parl, 3)"
   ]
  },
  {
   "cell_type": "code",
   "execution_count": 50,
   "metadata": {},
   "outputs": [
    {
     "data": {
      "text/html": [
       "<table class=\"data-frame\"><thead><tr><th></th><th>ID</th><th>IdSession</th><th>CouncilName</th><th>PersonNumber</th><th>SpeakerFullName</th><th>OfficialName</th></tr><tr><th></th><th>String</th><th>String</th><th>String</th><th>Int64</th><th>String</th><th>String</th></tr></thead><tbody><p>3 rows × 15 columns (omitted printing of 9 columns)</p><tr><th>1</th><td>225281</td><td>0012</td><td>Nationalrat</td><td>1288</td><td>Amherd Viola</td><td>Amherd</td></tr><tr><th>2</th><td>225282</td><td>0012</td><td>Nationalrat</td><td>4036</td><td>Streiff-Feller Marianne</td><td>Streiff</td></tr><tr><th>3</th><td>225283</td><td>0012</td><td>Nationalrat</td><td>514</td><td>Stahl Jürg</td><td>Stahl</td></tr></tbody></table>"
      ],
      "text/latex": [
       "\\begin{tabular}{r|ccccccc}\n",
       "\t& ID & IdSession & CouncilName & PersonNumber & SpeakerFullName & OfficialName & \\\\\n",
       "\t\\hline\n",
       "\t& String & String & String & Int64 & String & String & \\\\\n",
       "\t\\hline\n",
       "\t1 & 225281 & 0012 & Nationalrat & 1288 & Amherd Viola & Amherd & $\\dots$ \\\\\n",
       "\t2 & 225282 & 0012 & Nationalrat & 4036 & Streiff-Feller Marianne & Streiff & $\\dots$ \\\\\n",
       "\t3 & 225283 & 0012 & Nationalrat & 514 & Stahl Jürg & Stahl & $\\dots$ \\\\\n",
       "\\end{tabular}\n"
      ],
      "text/plain": [
       "3×15 DataFrame. Omitted printing of 11 columns\n",
       "│ Row │ ID     │ IdSession │ CouncilName │ PersonNumber │\n",
       "│     │ \u001b[90mString\u001b[39m │ \u001b[90mString\u001b[39m    │ \u001b[90mString\u001b[39m      │ \u001b[90mInt64\u001b[39m        │\n",
       "├─────┼────────┼───────────┼─────────────┼──────────────┤\n",
       "│ 1   │ 225281 │ 0012      │ Nationalrat │ 1288         │\n",
       "│ 2   │ 225282 │ 0012      │ Nationalrat │ 4036         │\n",
       "│ 3   │ 225283 │ 0012      │ Nationalrat │ 514          │"
      ]
     },
     "execution_count": 50,
     "metadata": {},
     "output_type": "execute_result"
    }
   ],
   "source": [
    "function wordcount(text)\n",
    "    text = cleantext(text)\n",
    "    words = split(text, Regex(join([\" \",\"\\n\",\"\\t\",\"-\",\"\\\\.\",\",\",\":\",\"_\",\"\\\"\",\";\",\"!\"], \"|\")))\n",
    "    #print(words)\n",
    "    return length(words)\n",
    "end\n",
    "\n",
    "function getdate(text)\n",
    "    return unix2datetime(parse(Int64, replace(text, r\"/|\\(|\\)|Date\" => \"\"))/1000)\n",
    "end\n",
    "\n",
    "function getparlfld(id, fld)\n",
    "    l = nothing\n",
    "    if isa(id, SubArray)\n",
    "        id = id[1] \n",
    "    end\n",
    "    try\n",
    "        l = parl[parl.ID .== id, fld]\n",
    "    catch e\n",
    "        println(\"Could not match $fld on $id\")\n",
    "        return \"?\"\n",
    "    end\n",
    "    if size(l, 1) > 0\n",
    "        return l[1][1] \n",
    "    end\n",
    "    \"?\"\n",
    "end\n",
    "\n",
    "df3t = by(df3, [:ID, :IdSession, :CouncilName, :PersonNumber, :SpeakerFullName]) do r\n",
    "    (\n",
    "        OfficialName = getparlfld(r.PersonNumber, [:OfficialName]),\n",
    "        Start = getdate(r.Start[1]),\n",
    "        Duration = ceil(getdate(r.End[1]) - getdate(r.Start[1]), Dates.Second),\n",
    "        WordCount = wordcount(r.Text[1]),\n",
    "        Gender = getparlfld(r.PersonNumber, [:GenderAsString]),\n",
    "        Rat = getparlfld(r.PersonNumber, [:CouncilName]),\n",
    "        Partei = getparlfld(r.PersonNumber, [:PartyName]),\n",
    "        Fraktion = getparlfld(r.PersonNumber, [:ParlGroupName]),\n",
    "        IsPM = r.Function[1] in [\"P-M\", \"AP-M\", \"BPR-F\"] ? 1 : 0,\n",
    "        One = 1\n",
    "    )\n",
    "end\n",
    "first(df3t,3)"
   ]
  },
  {
   "cell_type": "code",
   "execution_count": 51,
   "metadata": {},
   "outputs": [
    {
     "data": {
      "text/html": [
       "<table class=\"data-frame\"><thead><tr><th></th><th>ID</th><th>IdSession</th><th>CouncilName</th><th>PersonNumber</th><th>SpeakerFullName</th><th>OfficialName</th></tr><tr><th></th><th>String</th><th>String</th><th>String</th><th>Int64</th><th>String</th><th>String</th></tr></thead><tbody><p>3 rows × 15 columns (omitted printing of 9 columns)</p><tr><th>1</th><td>225281</td><td>0012</td><td>Nationalrat</td><td>1288</td><td>Amherd Viola</td><td>Amherd</td></tr><tr><th>2</th><td>225282</td><td>0012</td><td>Nationalrat</td><td>4036</td><td>Streiff-Feller Marianne</td><td>Streiff</td></tr><tr><th>3</th><td>225283</td><td>0012</td><td>Nationalrat</td><td>514</td><td>Stahl Jürg</td><td>Stahl</td></tr></tbody></table>"
      ],
      "text/latex": [
       "\\begin{tabular}{r|ccccccc}\n",
       "\t& ID & IdSession & CouncilName & PersonNumber & SpeakerFullName & OfficialName & \\\\\n",
       "\t\\hline\n",
       "\t& String & String & String & Int64 & String & String & \\\\\n",
       "\t\\hline\n",
       "\t1 & 225281 & 0012 & Nationalrat & 1288 & Amherd Viola & Amherd & $\\dots$ \\\\\n",
       "\t2 & 225282 & 0012 & Nationalrat & 4036 & Streiff-Feller Marianne & Streiff & $\\dots$ \\\\\n",
       "\t3 & 225283 & 0012 & Nationalrat & 514 & Stahl Jürg & Stahl & $\\dots$ \\\\\n",
       "\\end{tabular}\n"
      ],
      "text/plain": [
       "3×15 DataFrame. Omitted printing of 11 columns\n",
       "│ Row │ ID     │ IdSession │ CouncilName │ PersonNumber │\n",
       "│     │ \u001b[90mString\u001b[39m │ \u001b[90mString\u001b[39m    │ \u001b[90mString\u001b[39m      │ \u001b[90mInt64\u001b[39m        │\n",
       "├─────┼────────┼───────────┼─────────────┼──────────────┤\n",
       "│ 1   │ 225281 │ 0012      │ Nationalrat │ 1288         │\n",
       "│ 2   │ 225282 │ 0012      │ Nationalrat │ 4036         │\n",
       "│ 3   │ 225283 │ 0012      │ Nationalrat │ 514          │"
      ]
     },
     "execution_count": 51,
     "metadata": {},
     "output_type": "execute_result"
    }
   ],
   "source": [
    "# Apply date filters\n",
    "dflt = df3t[df3t.Start .>= FILTER_FROM, :]\n",
    "dflt = dflt[dflt.Start .<= FILTER_TO, :]\n",
    "dflt = dflt[dflt.Duration .<= Dates.Hour(6), :]\n",
    "first(dflt,3)"
   ]
  },
  {
   "cell_type": "code",
   "execution_count": 52,
   "metadata": {},
   "outputs": [
    {
     "data": {
      "text/html": [
       "<table class=\"data-frame\"><thead><tr><th></th><th>PersonNumber</th><th>SpeakerFullName</th><th>Gender</th><th>Rat</th><th>Partei</th></tr><tr><th></th><th>Int64</th><th>String</th><th>String</th><th>String⍰</th><th>String</th></tr></thead><tbody><p>3 rows × 11 columns (omitted printing of 6 columns)</p><tr><th>1</th><td>1288</td><td>Amherd Viola</td><td>f</td><td>Bundesrat</td><td>Christlichdemokratische Volkspartei der Schweiz</td></tr><tr><th>2</th><td>4036</td><td>Streiff-Feller Marianne</td><td>f</td><td>Nationalrat</td><td>Evangelische Volkspartei der Schweiz</td></tr><tr><th>3</th><td>514</td><td>Stahl Jürg</td><td>m</td><td>Nationalrat</td><td>Schweizerische Volkspartei</td></tr></tbody></table>"
      ],
      "text/latex": [
       "\\begin{tabular}{r|cccccc}\n",
       "\t& PersonNumber & SpeakerFullName & Gender & Rat & Partei & \\\\\n",
       "\t\\hline\n",
       "\t& Int64 & String & String & String⍰ & String & \\\\\n",
       "\t\\hline\n",
       "\t1 & 1288 & Amherd Viola & f & Bundesrat & Christlichdemokratische Volkspartei der Schweiz & $\\dots$ \\\\\n",
       "\t2 & 4036 & Streiff-Feller Marianne & f & Nationalrat & Evangelische Volkspartei der Schweiz & $\\dots$ \\\\\n",
       "\t3 & 514 & Stahl Jürg & m & Nationalrat & Schweizerische Volkspartei & $\\dots$ \\\\\n",
       "\\end{tabular}\n"
      ],
      "text/plain": [
       "3×11 DataFrame. Omitted printing of 7 columns\n",
       "│ Row │ PersonNumber │ SpeakerFullName         │ Gender │ Rat         │\n",
       "│     │ \u001b[90mInt64\u001b[39m        │ \u001b[90mString\u001b[39m                  │ \u001b[90mString\u001b[39m │ \u001b[90mString⍰\u001b[39m     │\n",
       "├─────┼──────────────┼─────────────────────────┼────────┼─────────────┤\n",
       "│ 1   │ 1288         │ Amherd Viola            │ f      │ Bundesrat   │\n",
       "│ 2   │ 4036         │ Streiff-Feller Marianne │ f      │ Nationalrat │\n",
       "│ 3   │ 514          │ Stahl Jürg              │ m      │ Nationalrat │"
      ]
     },
     "execution_count": 52,
     "metadata": {},
     "output_type": "execute_result"
    }
   ],
   "source": [
    "# Aggregate times\n",
    "#by(iris, :Species, [:PetalLength, :SepalLength] =>\n",
    "#              x -> (a=mean(x.PetalLength)/mean(x.SepalLength), b=sum(x.PetalLength)))\n",
    "#aggregate(dflt, :PersonNumber, [:Duration])\n",
    "\n",
    "dout = by(dflt, [:PersonNumber, :SpeakerFullName, :Gender, :Rat, :Partei, :Fraktion], \n",
    "    [:IsPM, :Duration, :WordCount, :IdSession, :One] => x -> \n",
    "    (\n",
    "        PMCount=sum(x.IsPM), \n",
    "        TotalDuration=Dates.value(sum(x.Duration)), \n",
    "        TotalWords=sum(x.WordCount), \n",
    "        TotalSessions=length(unique(x.IdSession)),\n",
    "        TotalTranscripts=sum(x.One)\n",
    "    )\n",
    ")\n",
    "first(dout,3)"
   ]
  },
  {
   "cell_type": "code",
   "execution_count": 53,
   "metadata": {},
   "outputs": [
    {
     "data": {
      "text/plain": [
       "(274, 11)"
      ]
     },
     "execution_count": 53,
     "metadata": {},
     "output_type": "execute_result"
    }
   ],
   "source": [
    "# Create a filtered copy of the data frame\n",
    "dfltr = dout[:, :]\n",
    "# Subtract those who were in the Bundesrat\n",
    "#dfltr = dfltr[dfltr.Rat .!== \"Bundesrat\", :]\n",
    "# Subtract those who have been P-M at least once\n",
    "#dfltr = dfltr[dfltr.PMCount .== 0, :]\n",
    "size(dfltr)"
   ]
  },
  {
   "cell_type": "code",
   "execution_count": 54,
   "metadata": {},
   "outputs": [
    {
     "data": {
      "text/plain": [
       "\"output.csv\""
      ]
     },
     "execution_count": 54,
     "metadata": {},
     "output_type": "execute_result"
    }
   ],
   "source": [
    "# Output file to disk\n",
    "CSV.write(\"output.csv\", dfltr, delim = ';')"
   ]
  },
  {
   "cell_type": "code",
   "execution_count": 55,
   "metadata": {},
   "outputs": [],
   "source": [
    "# TODO: update Data Package"
   ]
  },
  {
   "cell_type": "code",
   "execution_count": 56,
   "metadata": {},
   "outputs": [],
   "source": [
    "# 3880 74"
   ]
  },
  {
   "cell_type": "code",
   "execution_count": 57,
   "metadata": {},
   "outputs": [
    {
     "data": {
      "text/plain": [
       "\"test2.csv\""
      ]
     },
     "execution_count": 57,
     "metadata": {},
     "output_type": "execute_result"
    }
   ],
   "source": [
    "CSV.write(\"test2.csv\", df3t[df3t.PersonNumber .== 3880, :], delim = ';')"
   ]
  },
  {
   "cell_type": "code",
   "execution_count": 58,
   "metadata": {},
   "outputs": [
    {
     "name": "stdout",
     "output_type": "stream",
     "text": [
      "1×14 DataFrame\n",
      "│ Row │ CantonAbbreviation │ CantonId │ CantonName  │ CouncilId │ CouncilName │\n",
      "│     │ \u001b[90mString\u001b[39m             │ \u001b[90mInt64\u001b[39m    │ \u001b[90mString\u001b[39m      │ \u001b[90mInt64\u001b[39m     │ \u001b[90mString\u001b[39m      │\n",
      "├─────┼────────────────────┼──────────┼─────────────┼───────────┼─────────────┤\n",
      "│ 1   │ BS                 │ 12       │ Basel-Stadt │ 1         │ Nationalrat │\n",
      "\n",
      "│ Row │ End                   │ Function │ ID     │ IdSession │ Language │\n",
      "│     │ \u001b[90mString\u001b[39m                │ \u001b[90mString\u001b[39m   │ \u001b[90mString\u001b[39m │ \u001b[90mString\u001b[39m    │ \u001b[90mString\u001b[39m   │\n",
      "├─────┼───────────────────────┼──────────┼────────┼───────────┼──────────┤\n",
      "│ 1   │ /Date(1495530596503)/ │ Mit-M    │ 215124 │ 0009      │ DE       │\n",
      "\n",
      "│ Row │ PersonNumber │ SpeakerFullName  │ Start                 │\n",
      "│     │ \u001b[90mInt64\u001b[39m        │ \u001b[90mString\u001b[39m           │ \u001b[90mString\u001b[39m                │\n",
      "├─────┼──────────────┼──────────────────┼───────────────────────┤\n",
      "│ 1   │ 74           │ Eymann Christoph │ /Date(1495451402567)/ │\n",
      "\n",
      "│ Row │ Text                                                                                                                                                         │\n",
      "│     │ \u001b[90mString\u001b[39m                                                                                                                                                       │\n",
      "├─────┼──────────────────────────────────────────────────────────────────────────────────────────────────────────────────────────────────────────────────────────────┤\n",
      "│ 1   │ <pd_text><p>Dann können wir uns auf die Sommersession freuen</p>\\n<p>sssss</p>\\n<p>afsdfasdfasdf</p>\\n<p>qwertqertertrq</p>\\n<p>ycvyxcvyxcvy</p>\\n</pd_text> │"
     ]
    }
   ],
   "source": [
    "show(df3[df3.ID .== \"215124\", :], allcols=true)"
   ]
  },
  {
   "cell_type": "code",
   "execution_count": 59,
   "metadata": {},
   "outputs": [
    {
     "name": "stdout",
     "output_type": "stream",
     "text": [
      "1×14 DataFrame\n",
      "│ Row │ CantonAbbreviation │ CantonId │ CantonName │ CouncilId │ CouncilName │\n",
      "│     │ \u001b[90mString\u001b[39m             │ \u001b[90mInt64\u001b[39m    │ \u001b[90mString\u001b[39m     │ \u001b[90mInt64\u001b[39m     │ \u001b[90mString\u001b[39m      │\n",
      "├─────┼────────────────────┼──────────┼────────────┼───────────┼─────────────┤\n",
      "│ 1   │ BE                 │ 2        │ Bern       │ 1         │ Nationalrat │\n",
      "\n",
      "│ Row │ End                   │ Function │ ID     │ IdSession │ Language │\n",
      "│     │ \u001b[90mString\u001b[39m                │ \u001b[90mString\u001b[39m   │ \u001b[90mString\u001b[39m │ \u001b[90mString\u001b[39m    │ \u001b[90mString\u001b[39m   │\n",
      "├─────┼───────────────────────┼──────────┼────────┼───────────┼──────────┤\n",
      "│ 1   │ /Date(1479807481223)/ │ Mit-F    │ 206655 │ 0006      │ DE       │\n",
      "\n",
      "│ Row │ PersonNumber │ SpeakerFullName            │ Start                 │\n",
      "│     │ \u001b[90mInt64\u001b[39m        │ \u001b[90mString\u001b[39m                     │ \u001b[90mString\u001b[39m                │\n",
      "├─────┼──────────────┼────────────────────────────┼───────────────────────┤\n",
      "│ 1   │ 3880         │ Geissbühler Andrea Martina │ /Date(1479725082493)/ │\n",
      "\n",
      "│ Row │ Text                                                          │\n",
      "│     │ \u001b[90mString\u001b[39m                                                        │\n",
      "├─────┼───────────────────────────────────────────────────────────────┤\n",
      "│ 1   │ <pd_text><p>dddd</p>\\n<p>ddddd</p>\\n<p>dddddd</p>\\n</pd_text> │"
     ]
    }
   ],
   "source": [
    "show(df3[df3.ID .== \"206655\", :], allcols=true)"
   ]
  },
  {
   "cell_type": "code",
   "execution_count": 60,
   "metadata": {},
   "outputs": [
    {
     "name": "stdout",
     "output_type": "stream",
     "text": [
      "(31152, 15)\n",
      "(31152, 15)\n"
     ]
    }
   ],
   "source": [
    "println(size(dflt[dflt.Duration .<= Dates.Hour(6), :]))\n",
    "println(size(dflt))"
   ]
  }
 ],
 "metadata": {
  "kernelspec": {
   "display_name": "Julia 1.0.3",
   "language": "julia",
   "name": "julia-1.0"
  },
  "language_info": {
   "file_extension": ".jl",
   "mimetype": "application/julia",
   "name": "julia",
   "version": "1.0.3"
  }
 },
 "nbformat": 4,
 "nbformat_minor": 2
}
